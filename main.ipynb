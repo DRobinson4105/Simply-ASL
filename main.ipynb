{
 "cells": [
  {
   "cell_type": "code",
   "execution_count": 27,
   "metadata": {},
   "outputs": [],
   "source": [
    "import cv2\n",
    "import numpy as np\n",
    "import os\n",
    "from api.utils import text2gloss\n",
    "from tqdm import tqdm"
   ]
  },
  {
   "cell_type": "code",
   "execution_count": 28,
   "metadata": {},
   "outputs": [],
   "source": [
    "video_dir = \"video_dataset\"\n",
    "frame_dir = \"frame_dataset\""
   ]
  },
  {
   "cell_type": "code",
   "execution_count": 29,
   "metadata": {},
   "outputs": [],
   "source": [
    "# for filename in tqdm(os.listdir(data_dir)):\n",
    "#     if filename.count(\" \") == 0: continue\n",
    "#     word = filename.partition(' ')[0]\n",
    "#     gloss = text2gloss(word)\n",
    "#     os.rename(f'{data_dir}/{filename}', f'{data_dir}/{gloss}.mp4')"
   ]
  },
  {
   "cell_type": "code",
   "execution_count": 30,
   "metadata": {},
   "outputs": [
    {
     "name": "stderr",
     "output_type": "stream",
     "text": [
      " 17%|█▋        | 20/116 [00:01<00:08, 10.93it/s]OpenCV: Couldn't read video stream from file \"video_dataset/.DS_Store\"\n",
      " 21%|██        | 24/116 [00:01<00:06, 14.98it/s]"
     ]
    },
    {
     "name": "stdout",
     "output_type": "stream",
     "text": [
      "Error: Could not open video.\n"
     ]
    },
    {
     "name": "stderr",
     "output_type": "stream",
     "text": [
      "100%|██████████| 116/116 [00:11<00:00,  9.95it/s]\n"
     ]
    },
    {
     "ename": "",
     "evalue": "",
     "output_type": "error",
     "traceback": [
      "\u001b[1;31mThe Kernel crashed while executing code in the current cell or a previous cell. \n",
      "\u001b[1;31mPlease review the code in the cell(s) to identify a possible cause of the failure. \n",
      "\u001b[1;31mClick <a href='https://aka.ms/vscodeJupyterKernelCrash'>here</a> for more info. \n",
      "\u001b[1;31mView Jupyter <a href='command:jupyter.viewOutput'>log</a> for further details."
     ]
    }
   ],
   "source": [
    "for filename in tqdm(os.listdir(video_dir)):\n",
    "    video_path = f'{video_dir}/{filename}'\n",
    "\n",
    "    cap = cv2.VideoCapture(video_path)\n",
    "\n",
    "    if not cap.isOpened():\n",
    "        print(\"Error: Could not open video.\")\n",
    "        exit()\n",
    "\n",
    "    os.makedirs(frame_dir, exist_ok=True)\n",
    "\n",
    "    frame_number = 0\n",
    "\n",
    "    while frame_number < 60:\n",
    "        ret, frame = cap.read()\n",
    "        frame_filename = f\"{frame_dir}/{filename[:-4]}_frame_{frame_number:04d}.jpg\"\n",
    "\n",
    "        if not ret: break\n",
    "\n",
    "        cv2.imwrite(frame_filename, frame)\n",
    "\n",
    "        frame_number += 1\n",
    "\n",
    "cap.release()"
   ]
  }
 ],
 "metadata": {
  "kernelspec": {
   "display_name": ".venv",
   "language": "python",
   "name": "python3"
  },
  "language_info": {
   "codemirror_mode": {
    "name": "ipython",
    "version": 3
   },
   "file_extension": ".py",
   "mimetype": "text/x-python",
   "name": "python",
   "nbconvert_exporter": "python",
   "pygments_lexer": "ipython3",
   "version": "3.11.9"
  }
 },
 "nbformat": 4,
 "nbformat_minor": 2
}
