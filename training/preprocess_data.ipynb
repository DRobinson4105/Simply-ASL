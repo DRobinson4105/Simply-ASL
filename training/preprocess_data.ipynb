{
 "cells": [
  {
   "cell_type": "code",
   "execution_count": 11,
   "metadata": {},
   "outputs": [
    {
     "name": "stdout",
     "output_type": "stream",
     "text": [
      "Loading files...\n",
      "Creating train and test splits...\n"
     ]
    }
   ],
   "source": [
    "import json\n",
    "import pandas as pd\n",
    "import numpy as np\n",
    "\n",
    "N_KPTS = 133\n",
    "N_FRAMES = 60\n",
    "\n",
    "print(\"Loading files...\")\n",
    "with open('data/2Dto3D_train_part1.json', 'r') as file:\n",
    "    data1 = json.load(file)\n",
    "\n",
    "with open('data/2Dto3D_train_part2.json', 'r') as file:\n",
    "    data2 = json.load(file)\n",
    "\n",
    "with open('data/2Dto3D_train_part3.json', 'r') as file:\n",
    "    data3 = json.load(file)\n",
    "\n",
    "with open('data/2Dto3D_train_part4.json', 'r') as file:\n",
    "    data4 = json.load(file)\n",
    "\n",
    "with open('data/2Dto3D_train_part5.json', 'r') as file:\n",
    "    data5 = json.load(file)\n",
    "\n",
    "def preprocess_data(value, split=\"input\"):\n",
    "    input, output = value['keypoints_2d'], value['keypoints_3d']\n",
    "    res = [0] * N_KPTS\n",
    "    \n",
    "    if split == \"input\":\n",
    "        for i in range(N_KPTS):\n",
    "            res[i] = [input[str(i)]['x'], input[str(i)]['y']]\n",
    "    else:\n",
    "        for i in range(N_KPTS):\n",
    "            res[i] = [output[str(i)]['x'], output[str(i)]['y'], output[str(i)]['z']]\n",
    "\n",
    "\n",
    "    return res\n",
    "\n",
    "print(\"Creating train and test splits...\")\n",
    "train_dict = data1.copy()\n",
    "train_dict.update(data2)\n",
    "train_dict.update(data3)\n",
    "train_dict.update(data4)"
   ]
  },
  {
   "cell_type": "code",
   "execution_count": 12,
   "metadata": {},
   "outputs": [
    {
     "name": "stdout",
     "output_type": "stream",
     "text": [
      "Separating train dataset into input and output...\n",
      "Separating test dataset into input and output...\n"
     ]
    }
   ],
   "source": [
    "train = list(train_dict.values())\n",
    "test = list(data5.values())\n",
    "\n",
    "print(\"Separating train dataset into input and output...\")\n",
    "train_input = [preprocess_data(x, split=\"input\") for x in train]\n",
    "train_output = [preprocess_data(x, split=\"output\") for x in train]\n",
    "\n",
    "print(\"Separating test dataset into input and output...\")\n",
    "test_input = [preprocess_data(x, split=\"input\") for x in test]\n",
    "test_output = [preprocess_data(x, split=\"output\") for x in test]\n",
    "\n",
    "new_train = []\n",
    "new_test = []"
   ]
  },
  {
   "cell_type": "code",
   "execution_count": 14,
   "metadata": {},
   "outputs": [
    {
     "ename": "KeyboardInterrupt",
     "evalue": "",
     "output_type": "error",
     "traceback": [
      "\u001b[1;31m---------------------------------------------------------------------------\u001b[0m",
      "\u001b[1;31mKeyboardInterrupt\u001b[0m                         Traceback (most recent call last)",
      "\u001b[1;31mKeyboardInterrupt\u001b[0m: "
     ]
    }
   ],
   "source": [
    "num_full_chunks = (len(train_input) // 60) * 60\n",
    "trimmed = train[:num_full_chunks]\n",
    "train_input = [trimmed[i:i + 60] for i in range(0, len(trimmed), 60)]\n",
    "\n",
    "num_full_chunks = (len(train_output) // 60) * 60\n",
    "trimmed = train[:num_full_chunks]\n",
    "train_output = [trimmed[i:i + 60] for i in range(0, len(trimmed), 60)]\n",
    "\n",
    "num_full_chunks = (len(test_input) // 60) * 60\n",
    "trimmed = train[:num_full_chunks]\n",
    "test_input = [trimmed[i:i + 60] for i in range(0, len(trimmed), 60)]\n",
    "\n",
    "num_full_chunks = (len(test_output) // 60) * 60\n",
    "trimmed = train[:num_full_chunks]\n",
    "test_output = [trimmed[i:i + 60] for i in range(0, len(trimmed), 60)]"
   ]
  },
  {
   "cell_type": "code",
   "execution_count": null,
   "metadata": {},
   "outputs": [],
   "source": []
  }
 ],
 "metadata": {
  "kernelspec": {
   "display_name": ".venv",
   "language": "python",
   "name": "python3"
  },
  "language_info": {
   "codemirror_mode": {
    "name": "ipython",
    "version": 3
   },
   "file_extension": ".py",
   "mimetype": "text/x-python",
   "name": "python",
   "nbconvert_exporter": "python",
   "pygments_lexer": "ipython3",
   "version": "3.12.4"
  }
 },
 "nbformat": 4,
 "nbformat_minor": 2
}
