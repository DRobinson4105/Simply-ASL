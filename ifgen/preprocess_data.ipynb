{
 "cells": [
  {
   "cell_type": "code",
   "execution_count": 28,
   "metadata": {},
   "outputs": [],
   "source": [
    "import json\n",
    "import pandas as pd\n",
    "import numpy as np"
   ]
  },
  {
   "cell_type": "code",
   "execution_count": 29,
   "metadata": {},
   "outputs": [],
   "source": [
    "NUM_KPTS=133"
   ]
  },
  {
   "cell_type": "code",
   "execution_count": 30,
   "metadata": {},
   "outputs": [],
   "source": [
    "with open('data/2Dto3D_train_part1.json', 'r') as file:\n",
    "    data1 = json.load(file)\n",
    "\n",
    "with open('data/2Dto3D_train_part2.json', 'r') as file:\n",
    "    data2 = json.load(file)\n",
    "\n",
    "with open('data/2Dto3D_train_part3.json', 'r') as file:\n",
    "    data3 = json.load(file)\n",
    "\n",
    "with open('data/2Dto3D_train_part4.json', 'r') as file:\n",
    "    data4 = json.load(file)\n",
    "\n",
    "with open('data/2Dto3D_train_part5.json', 'r') as file:\n",
    "    data5 = json.load(file)"
   ]
  },
  {
   "cell_type": "code",
   "execution_count": 31,
   "metadata": {},
   "outputs": [],
   "source": [
    "def preprocess_data(value):\n",
    "    input, output = value['keypoints_2d'], value['keypoints_3d']\n",
    "    res_in, res_out = [0] * NUM_KPTS, [0] * NUM_KPTS\n",
    "    \n",
    "    for i in range(NUM_KPTS):\n",
    "        res_in[i] = [input[str(i)]['x'], input[str(i)]['y']]\n",
    "        res_out[i] = [output[str(i)]['x'], output[str(i)]['y'], output[str(i)]['z']]\n",
    "\n",
    "    return res_in, res_out"
   ]
  },
  {
   "cell_type": "code",
   "execution_count": 32,
   "metadata": {},
   "outputs": [],
   "source": [
    "train_dict = data1.copy()\n",
    "train_dict.update(data2)\n",
    "train_dict.update(data3)\n",
    "train_dict.update(data4)\n",
    "train = list(train_dict.values())\n",
    "test = list(data5.values())\n",
    "\n",
    "train = [preprocess_data(x) for x in train]\n",
    "test = [preprocess_data(x) for x in test]\n",
    "train_input, train_output = zip(*train)\n",
    "test_input, test_output = zip(*test)"
   ]
  },
  {
   "cell_type": "code",
   "execution_count": 33,
   "metadata": {},
   "outputs": [],
   "source": [
    "train_df = pd.DataFrame({\n",
    "    'Input': train_input,\n",
    "    'Output': train_output\n",
    "})\n",
    "\n",
    "test_df = pd.DataFrame({\n",
    "    'Input': test_input,\n",
    "    'Output': test_output\n",
    "})"
   ]
  },
  {
   "cell_type": "code",
   "execution_count": 34,
   "metadata": {},
   "outputs": [],
   "source": [
    "train_df.to_csv('train.csv', index=False)\n",
    "test_df.to_csv('test.csv', index=False)"
   ]
  },
  {
   "cell_type": "code",
   "execution_count": null,
   "metadata": {},
   "outputs": [],
   "source": []
  }
 ],
 "metadata": {
  "kernelspec": {
   "display_name": ".venv",
   "language": "python",
   "name": "python3"
  },
  "language_info": {
   "codemirror_mode": {
    "name": "ipython",
    "version": 3
   },
   "file_extension": ".py",
   "mimetype": "text/x-python",
   "name": "python",
   "nbconvert_exporter": "python",
   "pygments_lexer": "ipython3",
   "version": "3.11.9"
  }
 },
 "nbformat": 4,
 "nbformat_minor": 2
}
