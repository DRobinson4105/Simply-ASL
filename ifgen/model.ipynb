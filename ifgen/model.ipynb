{
 "cells": [
  {
   "cell_type": "code",
   "execution_count": 13,
   "metadata": {},
   "outputs": [],
   "source": [
    "import numpy as np\n",
    "import json"
   ]
  },
  {
   "cell_type": "code",
   "execution_count": 14,
   "metadata": {},
   "outputs": [],
   "source": [
    "# data_parts = [load_data(f'2Dto3D_train_part{i}.json') for i in range(1, 6)]\n",
    "#data_parts = load_data(f'data/2Dto3D_train_part1.json')\n"
   ]
  },
  {
   "cell_type": "code",
   "execution_count": 15,
   "metadata": {},
   "outputs": [],
   "source": [
    "def process(p1, p2):\n",
    "    x1, y1 = p1\n",
    "    x2, y2 = p2\n",
    "    \n",
    "    diff_x = (x2 - x1)/30\n",
    "    diff_y = (y2 - y1)/30\n",
    "    \n",
    "    return [(x1 + i*diff_x, y1 + i*diff_y) for i in range(30)]"
   ]
  },
  {
   "cell_type": "code",
   "execution_count": 22,
   "metadata": {},
   "outputs": [
    {
     "ename": "TypeError",
     "evalue": "'int' object is not callable",
     "output_type": "error",
     "traceback": [
      "\u001b[1;31m---------------------------------------------------------------------------\u001b[0m",
      "\u001b[1;31mTypeError\u001b[0m                                 Traceback (most recent call last)",
      "Cell \u001b[1;32mIn[22], line 16\u001b[0m\n\u001b[0;32m     12\u001b[0m     all_interpolated\u001b[38;5;241m.\u001b[39mappend(np\u001b[38;5;241m.\u001b[39marray(interpolated_video))\n\u001b[0;32m     14\u001b[0m interpolated_videos \u001b[38;5;241m=\u001b[39m np\u001b[38;5;241m.\u001b[39marray(all_interpolated)\n\u001b[1;32m---> 16\u001b[0m \u001b[43minterpolated_videos\u001b[49m\u001b[38;5;241;43m.\u001b[39;49m\u001b[43msize\u001b[49m\u001b[43m(\u001b[49m\u001b[43m)\u001b[49m\n",
      "\u001b[1;31mTypeError\u001b[0m: 'int' object is not callable"
     ]
    }
   ],
   "source": [
    "\n",
    "videos = np.random.rand(10, 60, 2) \n",
    "all_interpolated = []\n",
    "\n",
    "for video in videos:\n",
    "    interpolated_video = []\n",
    "    \n",
    "    for i in range(len(video) - 1):\n",
    "        p1, p2 = video[i], video[i + 1]\n",
    "        interpolated_frames = process(p1, p2)\n",
    "        interpolated_video.extend(interpolated_frames) \n",
    "    \n",
    "    all_interpolated.append(np.array(interpolated_video))\n",
    "\n",
    "interpolated_videos = np.array(all_interpolated)\n",
    "\n",
    "interpolated_videos.size()\n"
   ]
  }
 ],
 "metadata": {
  "kernelspec": {
   "display_name": ".venv",
   "language": "python",
   "name": "python3"
  },
  "language_info": {
   "codemirror_mode": {
    "name": "ipython",
    "version": 3
   },
   "file_extension": ".py",
   "mimetype": "text/x-python",
   "name": "python",
   "nbconvert_exporter": "python",
   "pygments_lexer": "ipython3",
   "version": "3.10.0"
  }
 },
 "nbformat": 4,
 "nbformat_minor": 2
}
